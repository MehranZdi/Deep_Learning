{
 "cells": [
  {
   "cell_type": "markdown",
   "metadata": {},
   "source": [
    "### Semantic segmentation with U-Net architecture on CARLA dataset. A solution for ['Semantic Segmentation for Self Driving Cars'](https://www.kaggle.com/kumaresanmanickavelu/lyft-udacity-challenge) challenge on kaggle."
   ]
  },
  {
   "cell_type": "code",
   "execution_count": 1,
   "metadata": {
    "execution": {
     "iopub.execute_input": "2021-09-24T12:30:47.357886Z",
     "iopub.status.busy": "2021-09-24T12:30:47.357568Z",
     "iopub.status.idle": "2021-09-24T12:30:53.219410Z",
     "shell.execute_reply": "2021-09-24T12:30:53.218633Z",
     "shell.execute_reply.started": "2021-09-24T12:30:47.357807Z"
    }
   },
   "outputs": [],
   "source": [
    "import os\n",
    "import random\n",
    "import glob\n",
    "import numpy as np\n",
    "import matplotlib.pyplot as plt\n",
    "import cv2\n",
    "import tensorflow as tf\n",
    "from sklearn.model_selection import train_test_split\n",
    "import tensorflow.keras.layers as tkl"
   ]
  },
  {
   "cell_type": "code",
   "execution_count": 27,
   "metadata": {
    "execution": {
     "iopub.execute_input": "2021-09-24T15:03:04.150117Z",
     "iopub.status.busy": "2021-09-24T15:03:04.149809Z",
     "iopub.status.idle": "2021-09-24T15:03:04.154044Z",
     "shell.execute_reply": "2021-09-24T15:03:04.153401Z",
     "shell.execute_reply.started": "2021-09-24T15:03:04.150084Z"
    }
   },
   "outputs": [],
   "source": [
    "HEIGHT = 256\n",
    "WIDTH = 256\n",
    "CHANNELS = 3\n",
    "N_CLASSES = 13\n",
    "BATCH_SIZE = 32"
   ]
  },
  {
   "cell_type": "code",
   "execution_count": 3,
   "metadata": {
    "execution": {
     "iopub.execute_input": "2021-09-24T12:30:55.283304Z",
     "iopub.status.busy": "2021-09-24T12:30:55.283004Z",
     "iopub.status.idle": "2021-09-24T12:30:55.288285Z",
     "shell.execute_reply": "2021-09-24T12:30:55.287195Z",
     "shell.execute_reply.started": "2021-09-24T12:30:55.283274Z"
    }
   },
   "outputs": [],
   "source": [
    "dir_path = '../input/lyft-udacity-challenge'"
   ]
  },
  {
   "cell_type": "code",
   "execution_count": 4,
   "metadata": {
    "execution": {
     "iopub.execute_input": "2021-09-24T12:30:55.507262Z",
     "iopub.status.busy": "2021-09-24T12:30:55.506634Z",
     "iopub.status.idle": "2021-09-24T12:30:58.657561Z",
     "shell.execute_reply": "2021-09-24T12:30:58.655243Z",
     "shell.execute_reply.started": "2021-09-24T12:30:55.507228Z"
    }
   },
   "outputs": [],
   "source": [
    "images_names = []\n",
    "mask_names = []\n",
    "\n",
    "for i in ['A', 'B', 'C', 'D', 'E']:\n",
    "    \n",
    "    images_names.extend(glob.glob(os.path.join(dir_path, f'data{i}/data*/CameraRGB/*.png')))\n",
    "    mask_names.extend(glob.glob(os.path.join(dir_path, f'data{i}/data*/CameraSeg/*.png')))\n",
    "\n",
    "n_samples = len(images_names)\n",
    "print(n_samples)\n",
    "# print(type(glob.glob(os.path.join(dir_path, f'data{i}/data*/CameraRGB/*.png'))))"
   ]
  },
  {
   "cell_type": "code",
   "execution_count": 5,
   "metadata": {
    "execution": {
     "iopub.execute_input": "2021-09-24T12:30:58.664148Z",
     "iopub.status.busy": "2021-09-24T12:30:58.661992Z",
     "iopub.status.idle": "2021-09-24T12:30:58.681713Z",
     "shell.execute_reply": "2021-09-24T12:30:58.680844Z",
     "shell.execute_reply.started": "2021-09-24T12:30:58.664100Z"
    }
   },
   "outputs": [],
   "source": [
    "train_images, val_images, train_masks, val_masks = train_test_split(images_names, mask_names, test_size = 0.2, random_state = 0)"
   ]
  },
  {
   "cell_type": "code",
   "execution_count": 6,
   "metadata": {
    "execution": {
     "iopub.execute_input": "2021-09-24T12:30:58.689037Z",
     "iopub.status.busy": "2021-09-24T12:30:58.686774Z",
     "iopub.status.idle": "2021-09-24T12:30:58.708692Z",
     "shell.execute_reply": "2021-09-24T12:30:58.707437Z",
     "shell.execute_reply.started": "2021-09-24T12:30:58.688947Z"
    }
   },
   "outputs": [],
   "source": [
    "class  DataGenerator(tf.keras.utils.Sequence):\n",
    "    \n",
    "    def __init__(self, image_filenames, mask_filenames, batch_size = BATCH_SIZE, shuffle = True):\n",
    "        self.image_filenames = image_filenames\n",
    "        self.mask_filenames = mask_filenames\n",
    "        self.filenames = list(zip(image_filenames, mask_filenames))\n",
    "        self.batch_size = BATCH_SIZE\n",
    "        self.shuffle = shuffle\n",
    "    \n",
    "    def __len__(self):\n",
    "        return (len(self.image_filenames) // self.batch_size)\n",
    "    \n",
    "    def __getitem__(self, idx):\n",
    "        batch = self.filenames[idx * self.batch_size : (idx + 1) * self.batch_size]\n",
    "        X, y = self.__data_generation(batch)\n",
    "        return X, y\n",
    "    \n",
    "    def on_epoch_end(self):\n",
    "        self.indexes = np.arange(len(self.image_filenames))\n",
    "        if self.shuffle == True:\n",
    "            np.random.shuffle(self.indexes)\n",
    "            \n",
    "    def __data_generation(self, batch):\n",
    "        images = []\n",
    "        segments = []\n",
    "        \n",
    "        for img_file, mask_file in batch:\n",
    "            image = cv2.imread(img_file)\n",
    "            image = cv2.resize(image, (WIDTH, HEIGHT))\n",
    "            image = tf.image.convert_image_dtype(image, tf.float32)\n",
    "            \n",
    "            mask = cv2.imread(mask_file)\n",
    "            mask = cv2.resize(mask, (WIDTH, HEIGHT))[:, :, 2]\n",
    "\n",
    "            images.append(image)\n",
    "            segments.append(mask)\n",
    "            \n",
    "        return np.array(images), np.array(segments)"
   ]
  },
  {
   "cell_type": "code",
   "execution_count": 26,
   "metadata": {
    "execution": {
     "iopub.execute_input": "2021-09-24T14:56:54.930181Z",
     "iopub.status.busy": "2021-09-24T14:56:54.929800Z",
     "iopub.status.idle": "2021-09-24T14:56:54.937842Z",
     "shell.execute_reply": "2021-09-24T14:56:54.936901Z",
     "shell.execute_reply.started": "2021-09-24T14:56:54.930140Z"
    }
   },
   "outputs": [],
   "source": [
    "train_generator = DataGenerator(train_images, train_masks)\n",
    "val_generator = DataGenerator(val_images, val_masks)"
   ]
  },
  {
   "cell_type": "code",
   "execution_count": 25,
   "metadata": {
    "execution": {
     "iopub.execute_input": "2021-09-24T14:56:23.347872Z",
     "iopub.status.busy": "2021-09-24T14:56:23.347042Z",
     "iopub.status.idle": "2021-09-24T14:56:25.646247Z",
     "shell.execute_reply": "2021-09-24T14:56:25.645432Z",
     "shell.execute_reply.started": "2021-09-24T14:56:23.347827Z"
    }
   },
   "outputs": [],
   "source": [
    "for i in range(5):\n",
    "    plt.figure(figsize=(12,6))\n",
    "    plt.subplot(121)\n",
    "    plt.imshow(x[i])\n",
    "    plt.title('Image')\n",
    "    plt.subplot(122)\n",
    "    plt.imshow(y[i])\n",
    "    plt.title('Segmentation')"
   ]
  },
  {
   "cell_type": "code",
   "execution_count": 9,
   "metadata": {
    "execution": {
     "iopub.execute_input": "2021-09-24T12:31:02.754816Z",
     "iopub.status.busy": "2021-09-24T12:31:02.754587Z",
     "iopub.status.idle": "2021-09-24T12:31:03.198374Z",
     "shell.execute_reply": "2021-09-24T12:31:03.197574Z",
     "shell.execute_reply.started": "2021-09-24T12:31:02.754788Z"
    }
   },
   "outputs": [],
   "source": [
    "fig, arr = plt.subplots(1,2, figsize=(15, 6))\n",
    "arr[0].imshow(x[10])\n",
    "arr[0].set_title('Image')\n",
    "arr[1].imshow(y[10])\n",
    "arr[1].set_title('Segmentation')"
   ]
  },
  {
   "cell_type": "code",
   "execution_count": 15,
   "metadata": {
    "execution": {
     "iopub.execute_input": "2021-09-24T12:34:46.052756Z",
     "iopub.status.busy": "2021-09-24T12:34:46.052419Z",
     "iopub.status.idle": "2021-09-24T12:34:46.071358Z",
     "shell.execute_reply": "2021-09-24T12:34:46.070112Z",
     "shell.execute_reply.started": "2021-09-24T12:34:46.052721Z"
    }
   },
   "outputs": [],
   "source": [
    "def conv_block(inputs = None, n_filters = 32, kernel_size = 3, batch_norm = True):\n",
    "    \n",
    "    '''First layer'''\n",
    "    \n",
    "    conv = tkl.Conv2D(filters = n_filters,\n",
    "                      kernel_size = kernel_size,\n",
    "                      padding = 'same',\n",
    "                      kernel_initializer = 'he_normal')(inputs)\n",
    "    \n",
    "    if batch_norm:\n",
    "        conv = tkl.BatchNormalization()(conv)\n",
    "    \n",
    "    conv = tkl.Activation('relu')(conv)\n",
    "    \n",
    "    '''Second layer'''\n",
    "    \n",
    "    conv = tkl.Conv2D(filters = n_filters,\n",
    "                     kernel_size = kernel_size,\n",
    "                     padding = 'same',\n",
    "                     kernel_initializer = 'he_normal')(conv)\n",
    "    \n",
    "    if batch_norm:\n",
    "        conv = tkl.BatchNormalization()(conv)\n",
    "    \n",
    "    conv = tkl.Activation('relu')(conv)\n",
    "        \n",
    "    return conv\n",
    "\n",
    "\n",
    "def conv_transpose_block(n_filters, kernel_size = 3):\n",
    "       conv_transpose = tkl.Conv2DTranspose(n_filters, kernel_size = kernel_size, strides = (2,2), padding = 'same')\n",
    "    \n",
    "    return conv_transpose\n",
    "    \n",
    "\n",
    "def u_net(n_filters = 32, dropout_prob = 0.1, batch_norm = True):\n",
    "    input_size = (WIDTH, HEIGHT, CHANNELS)\n",
    "    \n",
    "    input_img = tf.keras.Input(input_size, name = 'image' )\n",
    "    \n",
    "    c1 = conv_block(input_img, n_filters, kernel_size = 3)\n",
    "    p1 = tkl.MaxPooling2D((2,2))(c1)\n",
    "    p1 = tkl.Dropout(dropout_prob)(p1)\n",
    "    \n",
    "    c2 = conv_block(p1, n_filters * 2, kernel_size = 3)\n",
    "    p2 = tkl.MaxPooling2D((2,2))(c2)\n",
    "    p2 = tkl.Dropout(dropout_prob)(p2)\n",
    "    \n",
    "    c3 = conv_block(p2, n_filters * 4, kernel_size = 3)\n",
    "    p3 = tkl.MaxPooling2D((2,2))(c3)\n",
    "    p3 = tkl.Dropout(dropout_prob)(p3)\n",
    "    \n",
    "    c4 = conv_block(p3, n_filters * 8, kernel_size = 3)\n",
    "    p4 = tkl.MaxPooling2D((2,2))(c4)\n",
    "    p4 = tkl.Dropout(dropout_prob)(p4)\n",
    "    \n",
    "    c5 = conv_block(p4, n_filters * 16 , kernel_size = 3)\n",
    "    \n",
    "    ''' UpSampling '''\n",
    "    \n",
    "    u6 = conv_transpose_block(n_filters * 8, kernel_size = 3)(c5)  #----> 256\n",
    "    u6 = tkl.concatenate([u6, c4])     #----> 512\n",
    "    c6 = conv_block(u6, n_filters * 8, kernel_size = 3)   #----> 256\n",
    "    \n",
    "    u7 = conv_transpose_block(n_filters * 4)(c6)   #----> 128\n",
    "    u7 = tkl.concatenate([u7, c3])   #----> 256\n",
    "    c7 = conv_block(u7, n_filters * 4, kernel_size = 3)   #----> 128\n",
    "    \n",
    "    u8 = conv_transpose_block(n_filters * 2, kernel_size = 3)(c7)   #----> 64\n",
    "    u8 = tkl.concatenate([u8, c2])   #----> 128\n",
    "    c8 = conv_block(u8, n_filters * 2, kernel_size = 3)   #----> 64\n",
    "    \n",
    "    u9 = conv_transpose_block(n_filters, kernel_size = 3)(c8)   #----> 32\n",
    "    u9 = tkl.concatenate([u9, c1])   #----> 64\n",
    "    c9 = conv_block(u9, n_filters , kernel_size = 3)   #----> 32\n",
    "    \n",
    "    output = tkl.Conv2D(13, (1,1), activation = 'sigmoid')(c9)\n",
    "    \n",
    "    model = tf.keras.Model(inputs = [input_img], outputs = [output])\n",
    "\n",
    "    return model"
   ]
  },
  {
   "cell_type": "code",
   "execution_count": 16,
   "metadata": {
    "execution": {
     "iopub.execute_input": "2021-09-24T12:34:47.515117Z",
     "iopub.status.busy": "2021-09-24T12:34:47.514203Z",
     "iopub.status.idle": "2021-09-24T12:34:47.957512Z",
     "shell.execute_reply": "2021-09-24T12:34:47.956750Z",
     "shell.execute_reply.started": "2021-09-24T12:34:47.515067Z"
    }
   },
   "outputs": [],
   "source": [
    "model = u_net()\n",
    "model.summary()"
   ]
  },
  {
   "cell_type": "code",
   "execution_count": 17,
   "metadata": {
    "execution": {
     "iopub.execute_input": "2021-09-24T12:34:49.351467Z",
     "iopub.status.busy": "2021-09-24T12:34:49.350656Z",
     "iopub.status.idle": "2021-09-24T12:34:49.366594Z",
     "shell.execute_reply": "2021-09-24T12:34:49.365562Z",
     "shell.execute_reply.started": "2021-09-24T12:34:49.351423Z"
    }
   },
   "outputs": [],
   "source": [
    "model.compile(optimizer = 'adam', loss = 'sparse_categorical_crossentropy', metrics = ['accuracy'])"
   ]
  },
  {
   "cell_type": "code",
   "execution_count": 19,
   "metadata": {
    "execution": {
     "iopub.execute_input": "2021-09-24T12:35:58.510771Z",
     "iopub.status.busy": "2021-09-24T12:35:58.510197Z",
     "iopub.status.idle": "2021-09-24T12:35:58.515071Z",
     "shell.execute_reply": "2021-09-24T12:35:58.514341Z",
     "shell.execute_reply.started": "2021-09-24T12:35:58.510737Z"
    }
   },
   "outputs": [],
   "source": [
    "checkpoint = tf.keras.callbacks.ModelCheckpoint('model.h5', 'val_loss', save_best_only=True, save_weights_only=True, verbose=1)"
   ]
  },
  {
   "cell_type": "code",
   "execution_count": 20,
   "metadata": {
    "execution": {
     "iopub.execute_input": "2021-09-24T12:36:00.871473Z",
     "iopub.status.busy": "2021-09-24T12:36:00.871200Z",
     "iopub.status.idle": "2021-09-24T14:37:14.856134Z",
     "shell.execute_reply": "2021-09-24T14:37:14.855129Z",
     "shell.execute_reply.started": "2021-09-24T12:36:00.871444Z"
    }
   },
   "outputs": [],
   "source": [
    "train_steps = len(train_generator)\n",
    "val_steps = len(val_generator)\n",
    "\n",
    "history = model.fit(train_generator, validation_data = val_generator,\n",
    "                    steps_per_epoch = train_steps, validation_steps = val_steps,\n",
    "                    epochs = 45, verbose = 1)"
   ]
  },
  {
   "cell_type": "code",
   "execution_count": 23,
   "metadata": {
    "execution": {
     "iopub.execute_input": "2021-09-24T14:50:02.303138Z",
     "iopub.status.busy": "2021-09-24T14:50:02.302848Z",
     "iopub.status.idle": "2021-09-24T14:50:02.524362Z",
     "shell.execute_reply": "2021-09-24T14:50:02.523698Z",
     "shell.execute_reply.started": "2021-09-24T14:50:02.303106Z"
    }
   },
   "outputs": [],
   "source": [
    "plt.figure()\n",
    "plt.plot(history.history['accuracy'], label = 'Train accuracy')\n",
    "plt.plot(history.history['val_accuracy'], label = 'Validation accuracy')\n",
    "plt.title('Accuracy')\n",
    "plt.legend()"
   ]
  },
  {
   "cell_type": "code",
   "execution_count": 24,
   "metadata": {
    "execution": {
     "iopub.execute_input": "2021-09-24T14:53:14.079945Z",
     "iopub.status.busy": "2021-09-24T14:53:14.079619Z",
     "iopub.status.idle": "2021-09-24T14:53:14.380764Z",
     "shell.execute_reply": "2021-09-24T14:53:14.380144Z",
     "shell.execute_reply.started": "2021-09-24T14:53:14.079910Z"
    }
   },
   "outputs": [],
   "source": [
    "plt.figure()\n",
    "plt.plot(history.history['loss'], label = 'Train loss')\n",
    "plt.plot(history.history['val_loss'], label = 'Validation loss')\n",
    "plt.title('loss')\n",
    "plt.legend()"
   ]
  }
 ],
 "metadata": {
  "kernelspec": {
   "display_name": "Python 3 (ipykernel)",
   "language": "python",
   "name": "python3"
  },
  "language_info": {
   "codemirror_mode": {
    "name": "ipython",
    "version": 3
   },
   "file_extension": ".py",
   "mimetype": "text/x-python",
   "name": "python",
   "nbconvert_exporter": "python",
   "pygments_lexer": "ipython3",
   "version": "3.9.7"
  }
 },
 "nbformat": 4,
 "nbformat_minor": 4
}
