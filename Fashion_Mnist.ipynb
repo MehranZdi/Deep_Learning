{
  "nbformat": 4,
  "nbformat_minor": 0,
  "metadata": {
    "colab": {
      "name": "Fashion_Mnist.ipynb",
      "provenance": []
    },
    "kernelspec": {
      "name": "python3",
      "display_name": "Python 3"
    },
    "language_info": {
      "name": "python"
    }
  },
  "cells": [
    {
      "cell_type": "code",
      "metadata": {
        "id": "4-I2bLyKwru_"
      },
      "source": [
        "import tensorflow as tf\n",
        "from sklearn.model_selection import KFold\n",
        "from tensorflow.keras.optimizers import SGD\n",
        "from keras.models import load_model\n",
        "import matplotlib.pyplot as plt\n",
        "from keras.datasets import fashion_mnist\n",
        "import numpy as np\n",
        "import pandas as pd"
      ],
      "execution_count": 1,
      "outputs": []
    },
    {
      "cell_type": "code",
      "metadata": {
        "id": "zMWu7k8xwwko"
      },
      "source": [
        "def load_data():\n",
        "\n",
        "  (trainX, trainY), (testX, testY) = fashion_mnist.load_data()\n",
        "\n",
        "  # for i in range(9):\n",
        "    # plt.subplot(331 + i)\n",
        "    # plt.imshow(trainX[i], cmap='gray')\n",
        "  # plt.plot()\n",
        "\n",
        "  trainX = trainX.reshape(trainX.shape[0], 28, 28, 1)\n",
        "  testX = testX.reshape(testX.shape[0], 28, 28, 1)\n",
        "\n",
        "\n",
        "  # print(np.unique(trainX))\n",
        "  trainY = tf.keras.utils.to_categorical(trainY)\n",
        "  testY = tf.keras.utils.to_categorical(testY)\n",
        "\n",
        "  return trainX, trainY, testX, testY\n",
        "\n",
        "  # print('train: {} and test: {}'.format(trainY.shape, testY.shape))"
      ],
      "execution_count": 2,
      "outputs": []
    },
    {
      "cell_type": "code",
      "metadata": {
        "id": "qVWeOsbWwz3a"
      },
      "source": [
        "def prepare_pixels(trainX, testX):\n",
        "  train_norm = trainX.astype('float32') / 255\n",
        "  test_norm = testX.astype('float32') / 255\n",
        "\n",
        "  return train_norm, test_norm"
      ],
      "execution_count": 3,
      "outputs": []
    }
  ]
}